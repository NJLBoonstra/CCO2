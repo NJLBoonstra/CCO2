{
 "cells": [
  {
   "cell_type": "code",
   "execution_count": 20,
   "metadata": {},
   "outputs": [],
   "source": [
    "import pandas as pd\n",
    "import matplotlib.pyplot as plt\n",
    "import os\n",
    "from collections import defaultdict\n",
    "\n",
    "# experiments = {}\n"
   ]
  },
  {
   "cell_type": "markdown",
   "metadata": {},
   "source": [
    "## Varying the chunkSize\n",
    "whilst fixing the marginSize \n"
   ]
  },
  {
   "cell_type": "code",
   "execution_count": 45,
   "metadata": {},
   "outputs": [
    {
     "data": {
      "text/plain": [
       "Text(0, 0.5, 'Time (s)')"
      ]
     },
     "execution_count": 45,
     "metadata": {},
     "output_type": "execute_result"
    },
    {
     "data": {
      "image/png": "[encoded data removed]",
      "text/plain": [
       "<Figure size 432x288 with 1 Axes>"
      ]
     },
     "metadata": {
      "needs_background": "light"
     },
     "output_type": "display_data"
    }
   ],
   "source": [
    "exp_name = \"chunksize.csv\"\n",
    "chunk_csv = pd.read_csv(exp_name, skipinitialspace=True, comment=\"#\")\n",
    "\n",
    "unique_sizes = chunk_csv[\"chunksize(MB)\"].unique()\n",
    "means = []\n",
    "error = []\n",
    "\n",
    "for s in unique_sizes:\n",
    "    vals = chunk_csv[chunk_csv[\"chunksize(MB)\"] == s]\n",
    "    avg = vals[\"sortTime(s)\"].mean()\n",
    "    err = vals[\"sortTime(s)\"].std()\n",
    "    \n",
    "    means.append(avg)\n",
    "    error.append(err)\n",
    "    \n",
    "fig, ax = plt.subplots()\n",
    "ax.plot(unique_sizes, means, \"o--\")\n",
    "ax.errorbar(unique_sizes, means, yerr=error, fmt=\"none\", color=\"orange\")\n",
    "ax.set_xlabel(\"Chunk Size (MB)\")\n",
    "ax.set_ylabel(\"Time (s)\")"
   ]
  },
  {
   "cell_type": "markdown",
   "metadata": {},
   "source": [
    "## Varying the margin"
   ]
  },
  {
   "cell_type": "code",
   "execution_count": 48,
   "metadata": {},
   "outputs": [
    {
     "data": {
      "text/plain": [
       "Text(0, 0.5, 'Time (s)')"
      ]
     },
     "execution_count": 48,
     "metadata": {},
     "output_type": "execute_result"
    },
    {
     "data": {
      "image/png": "[encoded data removed]",
      "text/plain": [
       "<Figure size 432x288 with 1 Axes>"
      ]
     },
     "metadata": {
      "needs_background": "light"
     },
     "output_type": "display_data"
    }
   ],
   "source": [
    "exp_name = \"marginsize.csv\"\n",
    "chunk_csv = pd.read_csv(exp_name, skipinitialspace=True, comment=\"#\")\n",
    "\n",
    "unique_sizes = chunk_csv[\"margin(bytes)\"].unique()\n",
    "means = []\n",
    "error = []\n",
    "\n",
    "for s in unique_sizes:\n",
    "    vals = chunk_csv[chunk_csv[\"margin(bytes)\"] == s]\n",
    "    avg = vals[\"sortTime(s)\"].mean()\n",
    "    err = vals[\"sortTime(s)\"].std()\n",
    "    \n",
    "    means.append(avg)\n",
    "    error.append(err)\n",
    "    \n",
    "fig, ax = plt.subplots()\n",
    "fig.\n",
    "ax.errorbar(unique_sizes, means, yerr=error, fmt=\"none\", color=\"orange\")\n",
    "ax.plot(unique_sizes, means, \"o--\")\n",
    "ax.set_xlabel(\"Margin Size (bytes)\")\n",
    "ax.set_ylabel(\"Time (s)\")"
   ]
  },
  {
   "cell_type": "code",
   "execution_count": null,
   "metadata": {},
   "outputs": [],
   "source": []
  },
  {
   "cell_type": "code",
   "execution_count": null,
   "metadata": {},
   "outputs": [],
   "source": []
  }
 ],
 "metadata": {
  "interpreter": {
   "hash": "0125216b27e5ed6ec7d075df6380b3607de47f03694c72c817d4d43b4236a5d8"
  },
  "kernelspec": {
   "display_name": "Python 3 (ipykernel)",
   "language": "python",
   "name": "python3"
  },
  "language_info": {
   "codemirror_mode": {
    "name": "ipython",
    "version": 3
   },
   "file_extension": ".py",
   "mimetype": "text/x-python",
   "name": "python",
   "nbconvert_exporter": "python",
   "pygments_lexer": "ipython3",
   "version": "3.10.5"
  }
 },
 "nbformat": 4,
 "nbformat_minor": 2
}
